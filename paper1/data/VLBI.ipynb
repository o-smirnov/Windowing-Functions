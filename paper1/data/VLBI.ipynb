{
 "cells": [
  {
   "cell_type": "markdown",
   "metadata": {},
   "source": [
    "# VLBI"
   ]
  },
  {
   "cell_type": "code",
   "execution_count": 15,
   "metadata": {
    "collapsed": true
   },
   "outputs": [],
   "source": [
    "# # convert entry from Marcellin's file into flat DB\n",
    "# DB = {}\n",
    "# bandwidths = set()\n",
    "# filters = set(['avg'])\n",
    "# integrations = set()\n",
    "# fovs = set()\n",
    "# def addentry (md,avgonly=False):\n",
    "#     # adds single \"Marcellin dict\" entry corresponding to one bandwidth's entry\n",
    "#     bw = float(md['bandwidth'][:-3])  # trim \"MHz\" at end\n",
    "#     bandwidths.add(bw)\n",
    "#     for intkey, md1 in md.iteritems():\n",
    "#         if not intkey.startswith('int'):\n",
    "#             continue\n",
    "#         integr = float(intkey[:-1][3:]) # trim off 'int' and 's'\n",
    "#         integrations.add(integr)\n",
    "#         radius = md1['radius']\n",
    "#         if 'Avg' in md1 and 'flux' in md1['Avg']:\n",
    "#             DB[bw,integr,'avg',None] = md1['Avg']['flux'], md1['Avg']['noise'], radius\n",
    "#         if not avgonly:\n",
    "#             fov = 1\n",
    "#             fovs.add(fov)\n",
    "#             for filt, md3 in md1.iteritems():\n",
    "#                 if filt != 'Avg' and filt != 'radius':\n",
    "#                     print md3\n",
    "#                     DB[bw,integr,filt,fov] = md3['flux'], md3['noise'], radius\n",
    "#                     filters.add(filt)\n",
    "# convert entry from Marcellin's file into flat DB\n",
    "DB = {}\n",
    "bandwidths = set()\n",
    "filters = set(['avg'])\n",
    "integrations = set()\n",
    "fovs = set()\n",
    "def addentry (md):\n",
    "    # adds single \"Marcellin dict\" entry corresponding to one bandwidth's entry\n",
    "    bw = float(md['bandwidth'][:-3])  # trim \"Mhz\" at end\n",
    "    bandwidths.add(bw)\n",
    "    for intkey, md1 in md.iteritems():\n",
    "        if not intkey.startswith('int'):\n",
    "            continue\n",
    "        integr = float(intkey[:-1][3:]) # trim off 'int' and 's'\n",
    "        integrations.add(integr)\n",
    "        radius = md1['radius']\n",
    "        if 'avg' in md1 and 'flux' in md1['avg']:\n",
    "            DB[bw,integr,'avg',None] = md1['avg']['flux'], md1['avg']['noise'], radius\n",
    "        for fovkey, md2 in md1.iteritems():\n",
    "            if not fovkey.startswith('FoV'):\n",
    "                continue\n",
    "            fov = float(fovkey[:-3][3:])\n",
    "            fovs.add(fov)\n",
    "            for filt, md3 in md2.iteritems():\n",
    "                DB[bw,integr,filt,fov] = md3['flux'], md3['noise'], radius\n",
    "                filters.add(filt)"
   ]
  },
  {
   "cell_type": "code",
   "execution_count": 16,
   "metadata": {
    "collapsed": false
   },
   "outputs": [],
   "source": [
    "FIGDPI=100\n",
    "%matplotlib inline\n",
    "import pylab as plt\n",
    "import cPickle\n",
    "import glob\n",
    "for filename in glob.glob(\"VLBI-int0.1s-12500Hz-structure-in-order.data\"):\n",
    "    a1 = cPickle.load(open(filename))\n",
    "    for km,md in a1.iteritems():\n",
    "        addentry(md)\n",
    "# a1 = cPickle.load(open('picklefile_chandwidth-1Mhz_int-25s-50s-100s_FoV-1-2-4deg_overlaps.txt'))\n",
    "# a2 = cPickle.load(open('picklefile_chandwidth-2Mhz_int-25s-50s-100s_FoV-1-2-4deg_overlaps.txt'))\n",
    "# a3 = cPickle.load(open('picklefile_chandwidth-4Mhz_int-25s-50s-100s_FoV-1-2-4deg_overlaps.txt'))\n",
    "# a4 = cPickle.load(open('picklefile_chandwidth-10Mhz-int-100s_2.5Mhz-int-25s_FoV-1-2-4deg_overlaps.txt'))"
   ]
  },
  {
   "cell_type": "code",
   "execution_count": 17,
   "metadata": {
    "collapsed": false
   },
   "outputs": [
    {
     "name": "stdout",
     "output_type": "stream",
     "text": [
      "[0.0125] [0.1] [0.7] ['avg', 'bessel-1x1', 'sinc-1x1']\n",
      "[(0.0125, 0.1, 'bessel-1x1', 0.7), (0.0125, 0.1, 'sinc-1x1', 0.7), (0.0125, 0.1, 'avg', None)]\n"
     ]
    }
   ],
   "source": [
    "# addentry(a1)\n",
    "# addentry(a2)\n",
    "# for km,md in a3.iteritems():\n",
    "#     addentry(md)\n",
    "# for km,md in a4.iteritems():\n",
    "#     addentry(md)\n",
    "BANDWIDTHS = sorted(bandwidths)\n",
    "INTEGRATIONS = sorted(integrations)\n",
    "FILTERS = sorted(filters)\n",
    "FOVS = sorted(fovs)\n",
    "print BANDWIDTHS, INTEGRATIONS, FOVS, FILTERS\n",
    "print DB.keys()"
   ]
  },
  {
   "cell_type": "code",
   "execution_count": 18,
   "metadata": {
    "collapsed": false
   },
   "outputs": [],
   "source": [
    "# print a1.keys(),a2.keys(),a3.keys(),a4.keys()\n",
    "# a3 = a3['bandwidth4Mhz']\n",
    "# a4 = a4['bandwidth10Mhz']\n",
    "# print a3.keys(),a4.keys(),a4['int25s']['avg']"
   ]
  },
  {
   "cell_type": "code",
   "execution_count": 19,
   "metadata": {
    "collapsed": false
   },
   "outputs": [],
   "source": [
    "# int50 = a3['int50s']\n",
    "# fovs = ['FoV1deg', 'FoV2deg', 'FoV4deg' ]\n",
    "# integrations =  ['int25s', 'int50s', 'int100s' ]\n",
    "# radius = int50['radius']\n",
    "# filters = int50['FoV1deg'].keys()\n",
    "# print filters"
   ]
  },
  {
   "cell_type": "code",
   "execution_count": 20,
   "metadata": {
    "collapsed": false,
    "scrolled": false
   },
   "outputs": [],
   "source": [
    "ALLSYMS = \"*osdv^sp<>1234+x\"\n",
    "ALLSTYLES = [ 'r-', 'b--', 'g:' ]\n",
    "import fnmatch\n",
    "import itertools\n",
    "def plotfov (fov, bw, filters=\"*\", integrations=INTEGRATIONS, relative=False, legloc=None):\n",
    "    \"\"\"Makes a plot for one FoV, one BW, given integrations and filters.\n",
    "    Filters may be a list of strings, or a wildcard\"\"\"\n",
    "    if type(filters) is str:\n",
    "        matches = [ fnmatch.filter(FILTERS, filt) for filt in filters.split() ]\n",
    "        filters = list(itertools.chain(*matches))\n",
    "    if relative:\n",
    "        plt.axhline(1, color=\"0.8\", lw=10)\n",
    "    for style,ints in enumerate(integrations):\n",
    "        if (bw,ints,'Avg',None) not in DB:\n",
    "            continue\n",
    "        color = ALLSTYLES[style%len(ALLSTYLES)]\n",
    "        flux0, noise0, radius0 = DB[bw,ints,'avg',None]\n",
    "        if not relative:\n",
    "            plt.plot(radius0, flux0, color=\"0.8\", lw=10, label='avg %ss'%ints, zorder=-1000)\n",
    "        for filt, ls in zip(filters, ALLSYMS):\n",
    "            if (bw,ints,filt,fov) in DB:\n",
    "                flux, noise, radius = DB[bw,ints,filt,fov]\n",
    "                ratio = \"$\\Xi$=%.2f F=%.1f\" % (noise/noise0,flux0[-1]/flux[-1])\n",
    "                if relative:\n",
    "                    flux = flux/flux0\n",
    "                plt.plot(radius, flux, color+ls, mec=color[0], ms=7, \n",
    "                         label='%s %ss %s'%(filt, ints, ratio))\n",
    "    plt.legend(loc=legloc or (\"lower left\" if relative else \"upper right\"))\n",
    "    plt.xlabel(\"Distance from phase centre, degrees\")\n",
    "    if relative:\n",
    "        plt.ylabel(\"Smearing performance relative to boxcar averaging\")\n",
    "        plt.title(\"Relative BDWF performance for FoV %d deg, bandwidth %d MHz\" % (fov,bw) )\n",
    "    else:\n",
    "        plt.ylabel(\"Smearing factor\")\n",
    "        plt.title(\"Smearing for FoV %d deg, bandwidth %d MHz\" % (fov,bw) )\n",
    "def plotallfovs (bw, filters=\"*\", integrations=INTEGRATIONS):\n",
    "    \"\"\"Makes a plot for one BW, all FoVs, integrations and filters\"\"\"\n",
    "    for ifov, fov in enumerate(FOVS):\n",
    "        plt.figure(figsize=(16,30))\n",
    "        plt.subplot(len(fovs),1,ifov+1)\n",
    "        plotfov(fov,bw,filters=filters,integrations=integrations)\n",
    "def plotallfovsrel (bw, filters='*',integrations=INTEGRATIONS):\n",
    "    \"\"\"Makes a plot for one BW, all FoVs, integrations and filters\"\"\"\n",
    "    for ifov, fov in enumerate(FOVS):\n",
    "        plt.figure(figsize=(16,30))\n",
    "        plt.subplot(len(fovs),1,ifov+1)\n",
    "        plotfov(fov,bw,filters=filters,integrations=integrations,relative=True)\n",
    "def plotint (ints, bw, fovs=FOVS, filters=\"*\", relative=False, legloc=None):\n",
    "    \"\"\"Makes a plot for one integration, one BW, given FoVs and filters.\n",
    "    Filters may be a list of strings, or a wildcard\"\"\"\n",
    "    if type(filters) is str:\n",
    "        matches = [ fnmatch.filter(FILTERS, filt) for filt in filters.split() ]\n",
    "        filters = list(itertools.chain(*matches))\n",
    "    if (bw,ints,'avg',None) not in DB:\n",
    "        print bw,ints\n",
    "        raise RuntimeError,\"no data for this bandwidth/integration\"\n",
    "    flux0, noise0, radius0 = DB[bw,ints,'avg',None] \n",
    "    if not relative:\n",
    "        plt.plot(radius0, flux0, color=\"0.8\", lw=10, label='avg %ss'%ints)\n",
    "    else:\n",
    "        plt.axhline(1, color=\"0.8\", lw=10)\n",
    "    for style, fov in enumerate(fovs):\n",
    "        color = ALLSTYLES[style%len(ALLSTYLES)]\n",
    "        for filt, symbol in zip(filters, ALLSYMS):\n",
    "            if (bw,ints,filt,fov) in DB:\n",
    "                flux, noise, radius = DB[bw,ints,filt,fov]\n",
    "                ratio = \"$\\Xi=%.2f$\" % (noise/noise0)\n",
    "                if relative:\n",
    "                    flux = flux/flux0\n",
    "                plt.plot(radius, flux, color+symbol, mec=color[0], ms=7, \n",
    "                         label='%s FOV=%ddeg %ss %s'%(filt, fov, ints, ratio))\n",
    "    plt.legend(loc=legloc or (\"lower left\" if relative else \"upper right\"))\n",
    "    plt.xlabel(\"Distance from phase centre, degrees\")\n",
    "    if relative:\n",
    "        plt.ylabel(\"Smearing performance relative to boxcar averaging\")\n",
    "        plt.title(\"Relative BDWF performance for %ds x %dMHz integration\" % (ints,bw) )\n",
    "    else:\n",
    "        plt.ylabel(\"Smearing factor\")\n",
    "        plt.title(\"Smearing for %ds x %dMHz integration\" % (ints,bw) )"
   ]
  },
  {
   "cell_type": "markdown",
   "metadata": {},
   "source": [
    "# Specific plots"
   ]
  },
  {
   "cell_type": "code",
   "execution_count": 29,
   "metadata": {
    "collapsed": false,
    "scrolled": false
   },
   "outputs": [
    {
     "data": {
      "image/png": "[encoded data removed]",
      "text/plain": [
       "<matplotlib.figure.Figure at 0x7f21ab2a3c10>"
      ]
     },
     "metadata": {},
     "output_type": "display_data"
    }
   ],
   "source": [
    "def plotlist (sequence, legloc=None, relative=False, xlines=[0.95], ylines=[]):\n",
    "    \"\"\"Makes a plot for a sequence of bw,ints,filt,fov keys\"\"\"\n",
    "    style = ALLSTYLES[0]\n",
    "    isym = 0\n",
    "    noise0 = 0\n",
    "    bw, ints = 4.0, 50.\n",
    "    flux0 = None\n",
    "    if relative:\n",
    "        plt.axhline(1, color=\"0.8\", lw=10)\n",
    "    if xlines:\n",
    "        for x in xlines:\n",
    "            plt.axhline(x,color=\"0.5\",ls=':')\n",
    "    if ylines:\n",
    "        for y in ylines:\n",
    "            plt.axvline(y,color=\"0.5\",ls=':')\n",
    "    for seq in sequence:\n",
    "        if seq == \"avg\":\n",
    "            seq = \"avg\", None\n",
    "        # \"linestyle\" or \"Ns\" \"or XMHz\"\n",
    "        if type(seq) is str: \n",
    "            if seq.endswith(\"s\"):\n",
    "                ints = float(seq[:-1])\n",
    "            elif seq.lower().endswith(\"mhz\"):\n",
    "                bw = float(seq[:-3])\n",
    "            elif seq.lower().endswith(\"hz\"):\n",
    "                bw = float(seq[:-2])\n",
    "            else:\n",
    "                style = seq\n",
    "                isym = 0\n",
    "            continue\n",
    "        filt, fov = seq\n",
    "        dbkey = bw, ints, filt, fov\n",
    "        if dbkey not in DB:\n",
    "            print \"WARNING: %s not in database\" % str(dbkey)\n",
    "            continue\n",
    "        flux, noise, radius = DB[dbkey]\n",
    "        if filt == \"avg\":\n",
    "            noise0 = noise0 or noise\n",
    "            if not relative or flux0 is not None:\n",
    "                plt.plot(radius*60, flux/flux0 if relative else flux, color=\"0.8\", lw=10, zorder=-1000, \n",
    "                     label='avg $%s\\mathrm{s}\\\\times%s\\mathrm{kHz}$'%(ints,bw*1e+3))\n",
    "            if flux0 is None:\n",
    "                flux0 = flux\n",
    "        else:\n",
    "            ratio = \",\\;\\Xi=%.2f\" % (noise/noise0)\n",
    "            symbol = ALLSYMS[isym]\n",
    "            isym = (isym+1) % len(ALLSYMS)\n",
    "            if relative:\n",
    "                flux = flux/flux0\n",
    "                plt.plot(radius*60, flux, style+symbol, mec=style[0], ms=7, \n",
    "                         label='%s-%d\\' $%s\\mathrm{s}\\\\times%s\\mathrm{kHz}%s$'%(filt, fov*60, ints, bw*1e+3, ratio))\n",
    "            else:\n",
    "                plt.plot(radius*60, flux, style+symbol, mec=style[0], ms=7, \n",
    "                         label='%s-%d\\' $%s\\mathrm{s}\\\\times%s\\mathrm{kHz}%s$'%(filt, fov*60, ints, bw*1e+3, ratio))\n",
    "    plt.legend(loc=legloc or \"upper right\",framealpha=1)\n",
    "    plt.xlabel(\"Distance from phase centre, arcmin\")\n",
    "    if relative:\n",
    "        plt.ylabel(\"Smearing performance relative to boxcar averaging\")\n",
    "    else:\n",
    "        plt.ylabel(\"Smearing factor\")\n",
    "plt.figure(figsize=(16,10))\n",
    "plotlist([\"0.1s\",\"0.0125MHz\", \"avg\", \n",
    "          \"b--\", (\"sinc-1x1\",0.7),\n",
    "          \"r-\", (\"bessel-1x1\",0.7), \n",
    "    ],relative=False,ylines=[15,15/4.],xlines=[0.9])\n",
    "plt.savefig(\"../Figures/suppression-vlbi.png\",dpi=FIGDPI)\n"
   ]
  },
  {
   "cell_type": "code",
   "execution_count": 22,
   "metadata": {
    "collapsed": false
   },
   "outputs": [
    {
     "ename": "KeyError",
     "evalue": "(2.0, 25, 'avg', None)",
     "output_type": "error",
     "traceback": [
      "\u001b[1;31m---------------------------------------------------------------------------\u001b[0m",
      "\u001b[1;31mKeyError\u001b[0m                                  Traceback (most recent call last)",
      "\u001b[1;32m<ipython-input-22-a66b56c60d6c>\u001b[0m in \u001b[0;36m<module>\u001b[1;34m()\u001b[0m\n\u001b[1;32m----> 1\u001b[1;33m \u001b[1;32mprint\u001b[0m \u001b[0mDB\u001b[0m\u001b[1;33m[\u001b[0m\u001b[1;36m2.\u001b[0m\u001b[1;33m,\u001b[0m\u001b[1;36m25\u001b[0m\u001b[1;33m,\u001b[0m\u001b[1;34m\"avg\"\u001b[0m\u001b[1;33m,\u001b[0m\u001b[0mNone\u001b[0m\u001b[1;33m]\u001b[0m\u001b[1;33m[\u001b[0m\u001b[1;36m1\u001b[0m\u001b[1;33m]\u001b[0m\u001b[1;33m\u001b[0m\u001b[0m\n\u001b[0m\u001b[0;32m      2\u001b[0m \u001b[1;32mprint\u001b[0m \u001b[0mDB\u001b[0m\u001b[1;33m[\u001b[0m\u001b[1;36m2.\u001b[0m\u001b[1;33m,\u001b[0m\u001b[1;36m50\u001b[0m\u001b[1;33m,\u001b[0m\u001b[1;34m\"avg\"\u001b[0m\u001b[1;33m,\u001b[0m\u001b[0mNone\u001b[0m\u001b[1;33m]\u001b[0m\u001b[1;33m[\u001b[0m\u001b[1;36m1\u001b[0m\u001b[1;33m]\u001b[0m\u001b[1;33m\u001b[0m\u001b[0m\n\u001b[0;32m      3\u001b[0m \u001b[1;32mprint\u001b[0m \u001b[0mDB\u001b[0m\u001b[1;33m[\u001b[0m\u001b[1;36m4.\u001b[0m\u001b[1;33m,\u001b[0m\u001b[1;36m100\u001b[0m\u001b[1;33m,\u001b[0m\u001b[1;34m\"avg\"\u001b[0m\u001b[1;33m,\u001b[0m\u001b[0mNone\u001b[0m\u001b[1;33m]\u001b[0m\u001b[1;33m[\u001b[0m\u001b[1;36m1\u001b[0m\u001b[1;33m]\u001b[0m\u001b[1;33m\u001b[0m\u001b[0m\n\u001b[0;32m      4\u001b[0m \u001b[1;32mprint\u001b[0m \u001b[0mDB\u001b[0m\u001b[1;33m[\u001b[0m\u001b[1;36m10.\u001b[0m\u001b[1;33m,\u001b[0m\u001b[1;36m100\u001b[0m\u001b[1;33m,\u001b[0m\u001b[1;34m\"avg\"\u001b[0m\u001b[1;33m,\u001b[0m\u001b[0mNone\u001b[0m\u001b[1;33m]\u001b[0m\u001b[1;33m[\u001b[0m\u001b[1;36m1\u001b[0m\u001b[1;33m]\u001b[0m\u001b[1;33m\u001b[0m\u001b[0m\n\u001b[0;32m      5\u001b[0m \u001b[1;32mprint\u001b[0m \u001b[0mDB\u001b[0m\u001b[1;33m[\u001b[0m\u001b[1;36m10.\u001b[0m\u001b[1;33m,\u001b[0m\u001b[1;36m100\u001b[0m\u001b[1;33m,\u001b[0m\u001b[1;34m\"sinc-4x3\"\u001b[0m\u001b[1;33m,\u001b[0m\u001b[1;36m4\u001b[0m\u001b[1;33m]\u001b[0m\u001b[1;33m[\u001b[0m\u001b[1;36m1\u001b[0m\u001b[1;33m]\u001b[0m\u001b[1;33m\u001b[0m\u001b[0m\n",
      "\u001b[1;31mKeyError\u001b[0m: (2.0, 25, 'avg', None)"
     ]
    }
   ],
   "source": [
    "print DB[2.,25,\"avg\",None][1]\n",
    "print DB[2.,50,\"avg\",None][1]\n",
    "print DB[4.,100,\"avg\",None][1]\n",
    "print DB[10.,100,\"avg\",None][1]\n",
    "print DB[10.,100,\"sinc-4x3\",4][1]\n",
    "print DB[4.,100,\"sinc-4x3\",4][1]\n",
    "for key in DB.keys():\n",
    "    if key[2] == \"avg\":\n",
    "        print key,DB[key][1]"
   ]
  },
  {
   "cell_type": "code",
   "execution_count": null,
   "metadata": {
    "collapsed": true
   },
   "outputs": [],
   "source": []
  },
  {
   "cell_type": "markdown",
   "metadata": {},
   "source": [
    "# Remarks on freq vs time intervals\n",
    "OK, we should have worked this out much earlier. There are $S=24\\cdot3600=86400$ seconds in a day. In $t$ seconds of integration, a baseline $B$ with an East-West component of $B_x$ sweeps out an angle of $2\\pi t/S$, and a length of $2\\pi B_x t/S$.\n",
    "\n",
    "Over a $\\Delta\\nu$ channel at frequency $\\nu$, the effective baseline changes as $B\\Delta\\nu/\\nu$.\n",
    "\n",
    "So, to make the sampling bin comparable in the freq and time direction, we must have $2B_x\\pi t/S = b\\Delta\\nu/\\nu$, or $\\Delta\\nu=2\\pi\\nu (B_x/B) (t/S)$."
   ]
  },
  {
   "cell_type": "code",
   "execution_count": null,
   "metadata": {
    "collapsed": false
   },
   "outputs": [],
   "source": [
    "S = 24*3600\n",
    "def delta_nu (t, nu=1400, bx_over_b=1):\n",
    "  return 2*math.pi*nu*t*bx_over_b/S\n",
    "print delta_nu(100)\n",
    "print delta_nu(10,nu=14000)"
   ]
  },
  {
   "cell_type": "markdown",
   "metadata": {},
   "source": [
    "This gives us a very easy rule-of-thumb: at 1.4 GHz, on a fully East-West baseline, 100s is roughly 10MHz in terms of effective baseline change (i.e. effective smearing).  "
   ]
  }
 ],
 "metadata": {
  "kernelspec": {
   "display_name": "Python 2",
   "language": "python",
   "name": "python2"
  },
  "language_info": {
   "codemirror_mode": {
    "name": "ipython",
    "version": 2
   },
   "file_extension": ".py",
   "mimetype": "text/x-python",
   "name": "python",
   "nbconvert_exporter": "python",
   "pygments_lexer": "ipython2",
   "version": "2.7.6"
  }
 },
 "nbformat": 4,
 "nbformat_minor": 0
}
